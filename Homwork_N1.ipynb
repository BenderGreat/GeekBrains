{
 "cells": [
  {
   "cell_type": "markdown",
   "metadata": {},
   "source": [
    "#### Урок 1. Случайные события. Условная вероятность. Формула Байеса. Независимые испытания"
   ]
  },
  {
   "cell_type": "markdown",
   "metadata": {},
   "source": [
    "##### Домашнее задание N1\n",
    "Слушатель: Перфильев Дмитрий"
   ]
  },
  {
   "cell_type": "markdown",
   "metadata": {},
   "source": [
    "##### 1. Из колоды в 52 карты извлекаются случайным образом 4 карты. a) Найти вероятность того, что все карты – крести. б) Найти вероятность, что среди 4-х карт окажется хотя бы один туз."
   ]
  },
  {
   "cell_type": "markdown",
   "metadata": {},
   "source": [
    "$$P(A) = \\frac{m}{n}$$ "
   ]
  },
  {
   "cell_type": "markdown",
   "metadata": {},
   "source": [
    "Вероятность события — это отношение числа элементарных исходов, благоприятствующих данному событию, к числу всех равновозможных исходов опыта, в котором оно может появиться."
   ]
  },
  {
   "cell_type": "markdown",
   "metadata": {},
   "source": [
    "Вычислим все равновозможные исходы n - все возможные сочетания"
   ]
  },
  {
   "cell_type": "code",
   "execution_count": 1,
   "metadata": {},
   "outputs": [],
   "source": [
    "from math import factorial"
   ]
  },
  {
   "cell_type": "code",
   "execution_count": 2,
   "metadata": {},
   "outputs": [],
   "source": [
    "def combinations(n, k):\n",
    "    return int(factorial(n) / (factorial(k) * factorial(n - k)))"
   ]
  },
  {
   "cell_type": "code",
   "execution_count": 3,
   "metadata": {},
   "outputs": [
    {
     "name": "stdout",
     "output_type": "stream",
     "text": [
      "n все возможные исходы - 270725\n"
     ]
    }
   ],
   "source": [
    "с = 52\n",
    "k = 4\n",
    "n = combinations(с, k)\n",
    "print(f'n все возможные исходы - {n}')"
   ]
  },
  {
   "cell_type": "markdown",
   "metadata": {},
   "source": [
    " ##### a) Найти вероятность того, что все карты – крести."
   ]
  },
  {
   "cell_type": "markdown",
   "metadata": {},
   "source": [
    "Вычислим m - число элементарных исходов благоприятствующих данному событию, что все карты – крести количество сочетаний."
   ]
  },
  {
   "cell_type": "code",
   "execution_count": 4,
   "metadata": {},
   "outputs": [
    {
     "name": "stdout",
     "output_type": "stream",
     "text": [
      "m  число элементарных исходов благоприятствующих данному событию - 715\n"
     ]
    }
   ],
   "source": [
    "с = 13\n",
    "k = 4\n",
    "m = combinations(с, k)\n",
    "print(f'm  число элементарных исходов благоприятствующих данному событию - {m}')"
   ]
  },
  {
   "cell_type": "code",
   "execution_count": 5,
   "metadata": {},
   "outputs": [
    {
     "name": "stdout",
     "output_type": "stream",
     "text": [
      "Вероятность того, что все извлеченные карты – крести - 0.26410564225690275%\n"
     ]
    }
   ],
   "source": [
    "print(f'Вероятность того, что все извлеченные карты – крести - {m/n*100}%')"
   ]
  },
  {
   "cell_type": "markdown",
   "metadata": {},
   "source": [
    "##### б) Найти вероятность, что среди 4-х карт окажется хотя бы один туз."
   ]
  },
  {
   "cell_type": "markdown",
   "metadata": {},
   "source": [
    "Вычислим m - число элементарных исходов благоприятствующих данному событию, что что среди 4-х карт окажется хотя бы один туз.\n",
    "В данном случае число элементарных исходов равно  m1 - сочетанию 1 туза + m2 - сочетания 3 различных карт"
   ]
  },
  {
   "cell_type": "code",
   "execution_count": 6,
   "metadata": {},
   "outputs": [
    {
     "name": "stdout",
     "output_type": "stream",
     "text": [
      "m1  число сочетанию 1 туза - 4\n"
     ]
    }
   ],
   "source": [
    "с = 4\n",
    "k = 1\n",
    "m1 = combinations(с, k)\n",
    "print(f'm1  число сочетанию 1 туза - {m1}')"
   ]
  },
  {
   "cell_type": "code",
   "execution_count": 7,
   "metadata": {},
   "outputs": [
    {
     "name": "stdout",
     "output_type": "stream",
     "text": [
      "m2  сочетания 3 различных карт - 22100\n"
     ]
    }
   ],
   "source": [
    "с = 52\n",
    "k = 3\n",
    "m2 = combinations(с, k)\n",
    "print(f'm2  сочетания 3 различных карт - {m2}')"
   ]
  },
  {
   "cell_type": "code",
   "execution_count": 8,
   "metadata": {},
   "outputs": [
    {
     "name": "stdout",
     "output_type": "stream",
     "text": [
      "Вероятность того, что среди 4-х карт окажется хотя бы один туз. - 8.164742820205005%\n"
     ]
    }
   ],
   "source": [
    "print(f'Вероятность того, что среди 4-х карт окажется хотя бы один туз. - {(m1+m2)/n*100}%')"
   ]
  },
  {
   "cell_type": "markdown",
   "metadata": {},
   "source": [
    "#### 2. На входной двери подъезда установлен кодовый замок, содержащий десять кнопок с цифрами от 0 до 9. Код содержит три цифры, которые нужно нажать одновременно. Какова вероятность того, что человек, не знающий код, откроет дверь с первой попытки?"
   ]
  },
  {
   "cell_type": "markdown",
   "metadata": {},
   "source": [
    "Вычислим все возможные варианты - исходы. Последовательносьт не важна поэтому вычисляем все возможные сочетания"
   ]
  },
  {
   "cell_type": "code",
   "execution_count": 9,
   "metadata": {},
   "outputs": [
    {
     "name": "stdout",
     "output_type": "stream",
     "text": [
      "n все возможные соочетания - 120\n"
     ]
    }
   ],
   "source": [
    "с = 10\n",
    "k = 3\n",
    "n = combinations(с, k)\n",
    "print(f'n все возможные соочетания - {n}')"
   ]
  },
  {
   "cell_type": "markdown",
   "metadata": {},
   "source": [
    "m - число элементарных исходов благоприятствующих данному событию равно 1"
   ]
  },
  {
   "cell_type": "markdown",
   "metadata": {},
   "source": [
    "Вычислим вероятность"
   ]
  },
  {
   "cell_type": "code",
   "execution_count": 10,
   "metadata": {},
   "outputs": [
    {
     "name": "stdout",
     "output_type": "stream",
     "text": [
      "Вероятность того, что человек, не знающий код, откроет дверь с первой попытки - 0.8333333333333334%\n"
     ]
    }
   ],
   "source": [
    "print(f'Вероятность того, что человек, не знающий код, откроет дверь с первой попытки - {1/n*100}%')"
   ]
  },
  {
   "cell_type": "markdown",
   "metadata": {},
   "source": [
    "#### 3. В ящике имеется 15 деталей, из которых 9 окрашены. Рабочий случайным образом извлекает 3 детали. Какова вероятность того, что все извлеченные детали окрашены?"
   ]
  },
  {
   "cell_type": "code",
   "execution_count": 11,
   "metadata": {},
   "outputs": [
    {
     "name": "stdout",
     "output_type": "stream",
     "text": [
      "n все возможные соочетания - 455\n"
     ]
    }
   ],
   "source": [
    "с = 15\n",
    "k = 3\n",
    "n = combinations(с, k)\n",
    "print(f'n все возможные соочетания - {n}')"
   ]
  },
  {
   "cell_type": "code",
   "execution_count": 12,
   "metadata": {},
   "outputs": [
    {
     "name": "stdout",
     "output_type": "stream",
     "text": [
      "m число элементарных исходов благоприятствующих данному событию - 84\n"
     ]
    }
   ],
   "source": [
    "с = 9\n",
    "k = 3\n",
    "m = combinations(с, k)\n",
    "print(f'm число элементарных исходов благоприятствующих данному событию - {m}')"
   ]
  },
  {
   "cell_type": "code",
   "execution_count": 13,
   "metadata": {},
   "outputs": [
    {
     "name": "stdout",
     "output_type": "stream",
     "text": [
      "Вероятность того, что все извлеченные детали окрашены - 18.461538461538463%\n"
     ]
    }
   ],
   "source": [
    "print(f'Вероятность того, что все извлеченные детали окрашены - {m/n*100}%')"
   ]
  },
  {
   "cell_type": "markdown",
   "metadata": {},
   "source": [
    "#### 4. В лотерее 100 билетов. Из них 2 выигрышных. Какова вероятность того, что 2 приобретенных билета окажутся выигрышными?"
   ]
  },
  {
   "cell_type": "code",
   "execution_count": 14,
   "metadata": {},
   "outputs": [
    {
     "name": "stdout",
     "output_type": "stream",
     "text": [
      "n все возможные соочетания - 4950\n"
     ]
    }
   ],
   "source": [
    "с = 100\n",
    "k = 2\n",
    "n = combinations(с, k)\n",
    "print(f'n все возможные соочетания - {n}')"
   ]
  },
  {
   "cell_type": "code",
   "execution_count": 15,
   "metadata": {},
   "outputs": [
    {
     "name": "stdout",
     "output_type": "stream",
     "text": [
      "m число элементарных исходов благоприятствующих данному событию - 1\n"
     ]
    }
   ],
   "source": [
    "с = 2\n",
    "k = 2\n",
    "m = combinations(с, k)\n",
    "print(f'm число элементарных исходов благоприятствующих данному событию - {m}')"
   ]
  },
  {
   "cell_type": "code",
   "execution_count": 16,
   "metadata": {},
   "outputs": [
    {
     "name": "stdout",
     "output_type": "stream",
     "text": [
      "Вероятность вероятность того, что 2 приобретенных билета окажутся выигрышными - 0.0202020202020202%\n"
     ]
    }
   ],
   "source": [
    "print(f'Вероятность вероятность того, что 2 приобретенных билета окажутся выигрышными - {m/n*100}%')"
   ]
  },
  {
   "cell_type": "code",
   "execution_count": null,
   "metadata": {},
   "outputs": [],
   "source": []
  }
 ],
 "metadata": {
  "kernelspec": {
   "display_name": "Python 3",
   "language": "python",
   "name": "python3"
  },
  "language_info": {
   "codemirror_mode": {
    "name": "ipython",
    "version": 3
   },
   "file_extension": ".py",
   "mimetype": "text/x-python",
   "name": "python",
   "nbconvert_exporter": "python",
   "pygments_lexer": "ipython3",
   "version": "3.7.3"
  }
 },
 "nbformat": 4,
 "nbformat_minor": 2
}
