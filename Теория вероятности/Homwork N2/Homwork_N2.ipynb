{
 "cells": [
  {
   "cell_type": "markdown",
   "metadata": {},
   "source": [
    "#### Урок 2. Дискретные случайные величины. Закон распределения вероятностей. Биномиальный закон распределения. Распределение Пуассона"
   ]
  },
  {
   "cell_type": "markdown",
   "metadata": {},
   "source": [
    "##### Домашнее задание N2\n",
    "Слушатель: Перфильев Дмитрий"
   ]
  },
  {
   "cell_type": "markdown",
   "metadata": {},
   "source": [
    "#### 1. Вероятность того, что стрелок попадет в мишень, выстрелив один раз, равна 0.8. Стрелок выстрелил 100 раз. Найдите вероятность того, что стрелок попадет в цель ровно 85 раз."
   ]
  },
  {
   "cell_type": "markdown",
   "metadata": {},
   "source": [
    "$$P_n(X=k) = C_n^k p^k q^{n-k}$$"
   ]
  },
  {
   "cell_type": "code",
   "execution_count": 1,
   "metadata": {},
   "outputs": [],
   "source": [
    "from math import factorial, exp\n",
    "def combinations(n, k):\n",
    "    return int(factorial(n) / (factorial(k) * factorial(n - k)))"
   ]
  },
  {
   "cell_type": "code",
   "execution_count": 2,
   "metadata": {},
   "outputs": [
    {
     "name": "stdout",
     "output_type": "stream",
     "text": [
      "Вероятность того, что стрелок попадет в цель ровно 85 раз = 0.048061793700746355\n"
     ]
    }
   ],
   "source": [
    "n = 100\n",
    "p = 0.8\n",
    "k = 85\n",
    "c = combinations(n, k)\n",
    "pk = p**k\n",
    "qnk = (1-p)**(n-k)\n",
    "px = c*pk*qnk\n",
    "print(f'Вероятность того, что стрелок попадет в цель ровно 85 раз = {px}')"
   ]
  },
  {
   "cell_type": "markdown",
   "metadata": {},
   "source": [
    "#### 2. Вероятность того, что лампочка перегорит в течение первого дня эксплуатации, равна 0.0004. В жилом комплексе после ремонта в один день включили 5000 новых лампочек. Какова вероятность, что ни одна из них не перегорит в первый день? Какова вероятность, что перегорят ровно две?"
   ]
  },
  {
   "cell_type": "markdown",
   "metadata": {},
   "source": [
    "$$P_m \\approx \\frac{\\lambda^m}{m!}e^{-\\lambda}$$"
   ]
  },
  {
   "cell_type": "code",
   "execution_count": 3,
   "metadata": {},
   "outputs": [],
   "source": [
    "m1 = 1\n",
    "m2 = 2\n",
    "n = 5000\n",
    "p = 0.0004\n",
    "lyambda = n*p\n",
    "pm1 = lyambda**m1 / factorial(m1) * exp(-lyambda)\n",
    "pm2 = lyambda**m2 / factorial(m2) * exp(-lyambda)"
   ]
  },
  {
   "cell_type": "code",
   "execution_count": 4,
   "metadata": {},
   "outputs": [
    {
     "name": "stdout",
     "output_type": "stream",
     "text": [
      "Вероятность, что ни одна из них не перегорит в первый день = 0.7293294335267746\n"
     ]
    }
   ],
   "source": [
    "print(f'Вероятность, что ни одна из них не перегорит в первый день = {1-pm1}')"
   ]
  },
  {
   "cell_type": "code",
   "execution_count": 5,
   "metadata": {},
   "outputs": [
    {
     "name": "stdout",
     "output_type": "stream",
     "text": [
      "Вероятность, что перегорят ровно две = 0.2706705664732254\n"
     ]
    }
   ],
   "source": [
    "print(f'Вероятность, что перегорят ровно две = {pm2}')"
   ]
  },
  {
   "cell_type": "markdown",
   "metadata": {},
   "source": [
    "#### 3. Монету подбросили 144 раза. Какова вероятность, что орел выпадет ровно 70 раз?"
   ]
  },
  {
   "cell_type": "code",
   "execution_count": 6,
   "metadata": {},
   "outputs": [
    {
     "name": "stdout",
     "output_type": "stream",
     "text": [
      "Вероятность того, что орел выпадет ровно 70 раз = 0.06281178035144776\n"
     ]
    }
   ],
   "source": [
    "n = 144\n",
    "p = 0.5\n",
    "k = 70\n",
    "c = combinations(n, k)\n",
    "pk = p**k\n",
    "qnk = (1-p)**(n-k)\n",
    "px = c*pk*qnk\n",
    "print(f'Вероятность того, что орел выпадет ровно 70 раз = {px}')"
   ]
  },
  {
   "cell_type": "markdown",
   "metadata": {},
   "source": [
    "#### 4. В первом ящике находится 10 мячей, из которых 7 - белые. Во втором ящике - 11 мячей, из которых 9 белых. Из каждого ящика вытаскивают случайным образом по два мяча. Какова вероятность того, что все мячи белые? Какова вероятность того, что ровно два мяча белые? Какова вероятность того, что хотя бы один мяч белый?"
   ]
  },
  {
   "cell_type": "code",
   "execution_count": 7,
   "metadata": {},
   "outputs": [],
   "source": [
    "def combinations(n, k):\n",
    "    return int(factorial(n) / (factorial(k) * factorial(n - k)))"
   ]
  },
  {
   "cell_type": "markdown",
   "metadata": {},
   "source": [
    "#### Вычислим вероятность того, что все мячи белые"
   ]
  },
  {
   "cell_type": "markdown",
   "metadata": {},
   "source": [
    "Вычислим вероятность выбрать 2 белых мяча из первого ящика"
   ]
  },
  {
   "cell_type": "code",
   "execution_count": 8,
   "metadata": {},
   "outputs": [
    {
     "name": "stdout",
     "output_type": "stream",
     "text": [
      "n все возможные исходы - 45\n",
      "m  число элементарных исходов благоприятствующих данному событию - 21\n",
      "0.4666666666666667\n"
     ]
    }
   ],
   "source": [
    "с = 10\n",
    "k = 2\n",
    "n1 = combinations(с, k)\n",
    "print(f'n все возможные исходы - {n1}')\n",
    "с = 7\n",
    "k = 2\n",
    "m = combinations(с, k)\n",
    "print(f'm  число элементарных исходов благоприятствующих данному событию - {m}')\n",
    "p1 = m/n1\n",
    "print(f'{p1}')"
   ]
  },
  {
   "cell_type": "markdown",
   "metadata": {},
   "source": [
    "Вычислим вероятность выбрать 2 белых мяча из второго ящика"
   ]
  },
  {
   "cell_type": "code",
   "execution_count": 9,
   "metadata": {},
   "outputs": [
    {
     "name": "stdout",
     "output_type": "stream",
     "text": [
      "n все возможные исходы - 55\n",
      "m  число элементарных исходов благоприятствующих данному событию - 36\n",
      "0.6545454545454545\n"
     ]
    }
   ],
   "source": [
    "с = 11\n",
    "k = 2\n",
    "n2 = combinations(с, k)\n",
    "print(f'n все возможные исходы - {n2}')\n",
    "с = 9\n",
    "k = 2\n",
    "m = combinations(с, k)\n",
    "print(f'm  число элементарных исходов благоприятствующих данному событию - {m}')\n",
    "p2 = m/n2\n",
    "print(f'{p2}')"
   ]
  },
  {
   "cell_type": "markdown",
   "metadata": {},
   "source": [
    "Т.к. вероятности независимы вероятности перемножаются"
   ]
  },
  {
   "cell_type": "code",
   "execution_count": 10,
   "metadata": {},
   "outputs": [
    {
     "name": "stdout",
     "output_type": "stream",
     "text": [
      "m  вероятность того, что все мячи белые - 0.3054545454545455\n"
     ]
    }
   ],
   "source": [
    "print(f'm  вероятность того, что все мячи белые - {p1*p2}')"
   ]
  },
  {
   "cell_type": "markdown",
   "metadata": {},
   "source": [
    "#### Вычислим вероятность того, что ровно два мяча белые"
   ]
  },
  {
   "cell_type": "markdown",
   "metadata": {},
   "source": [
    "Вычислим вероятности выбрать 1 белый мяч + 1 черный мяч из первого ящика"
   ]
  },
  {
   "cell_type": "code",
   "execution_count": 11,
   "metadata": {},
   "outputs": [],
   "source": [
    "с = 3\n",
    "k = 1\n",
    "mb = combinations(с, k)"
   ]
  },
  {
   "cell_type": "code",
   "execution_count": 12,
   "metadata": {},
   "outputs": [
    {
     "name": "stdout",
     "output_type": "stream",
     "text": [
      "m  число элементарных исходов благоприятствующих данному событию - 21\n",
      "Вероятность выбрать 1 белый мяч + 1 черный мяч из двух 0.4666666666666667\n"
     ]
    }
   ],
   "source": [
    "с = 7\n",
    "k = 1\n",
    "m = combinations(с, k) * mb\n",
    "print(f'm  число элементарных исходов благоприятствующих данному событию - {m}')\n",
    "p3 = m/n1\n",
    "print(f'Вероятность выбрать 1 белый мяч + 1 черный мяч из двух {p3}')"
   ]
  },
  {
   "cell_type": "markdown",
   "metadata": {},
   "source": [
    "Вычислим вероятности выбрать 2 черных мяча из первого ящика"
   ]
  },
  {
   "cell_type": "code",
   "execution_count": 13,
   "metadata": {},
   "outputs": [
    {
     "name": "stdout",
     "output_type": "stream",
     "text": [
      "m  число элементарных исходов благоприятствующих данному событию - 3\n",
      "Вероятность выбрать 2 черных 0.06666666666666667\n"
     ]
    }
   ],
   "source": [
    "с = 3\n",
    "k = 2\n",
    "m = combinations(с, k)\n",
    "print(f'm  число элементарных исходов благоприятствующих данному событию - {m}')\n",
    "p4 = m/n1\n",
    "print(f'Вероятность выбрать 2 черных {p4}')"
   ]
  },
  {
   "cell_type": "markdown",
   "metadata": {},
   "source": [
    "Вычислим вероятность выбрать 1 белый мяч + 1 черный мяч из второго ящика"
   ]
  },
  {
   "cell_type": "code",
   "execution_count": 14,
   "metadata": {},
   "outputs": [
    {
     "name": "stdout",
     "output_type": "stream",
     "text": [
      "m  число элементарных исходов благоприятствующих данному событию - 18\n",
      "Вероятность выбрать 1 белый мяч из двух 0.32727272727272727\n"
     ]
    }
   ],
   "source": [
    "с = 2\n",
    "k = 1\n",
    "mb = combinations(с, k)\n",
    "с = 9\n",
    "k = 1\n",
    "m = combinations(с, k)*mb\n",
    "print(f'm  число элементарных исходов благоприятствующих данному событию - {m}')\n",
    "p5 = m/n2\n",
    "print(f'Вероятность выбрать 1 белый мяч из двух {p5}')"
   ]
  },
  {
   "cell_type": "markdown",
   "metadata": {},
   "source": [
    "Вычислим вероятности выбрать 2 черных мяча из второго ящика"
   ]
  },
  {
   "cell_type": "code",
   "execution_count": 15,
   "metadata": {},
   "outputs": [
    {
     "name": "stdout",
     "output_type": "stream",
     "text": [
      "m  число элементарных исходов благоприятствующих данному событию - 1\n",
      "Вероятность выбрать 2 черных 0.01818181818181818\n"
     ]
    }
   ],
   "source": [
    "с = 2\n",
    "k = 2\n",
    "m = combinations(с, k)\n",
    "print(f'm  число элементарных исходов благоприятствующих данному событию - {m}')\n",
    "p6 = m/n2\n",
    "print(f'Вероятность выбрать 2 черных {p6}')"
   ]
  },
  {
   "cell_type": "markdown",
   "metadata": {},
   "source": [
    "#### Рассмотрим возможные варианты, что ровно два мяча белые\n",
    "1. Из первого ящика выбрали 2 белых, из второго 2 черных мяча"
   ]
  },
  {
   "cell_type": "code",
   "execution_count": 16,
   "metadata": {},
   "outputs": [
    {
     "name": "stdout",
     "output_type": "stream",
     "text": [
      "Вероятность такого исхода 0.008484848484848484\n"
     ]
    }
   ],
   "source": [
    "v1 = p1*p6\n",
    "print(f'Вероятность такого исхода {p1*p6}')"
   ]
  },
  {
   "cell_type": "markdown",
   "metadata": {},
   "source": [
    "2. Из первого ящика выбрали 2 черных, из второго 2 белых"
   ]
  },
  {
   "cell_type": "code",
   "execution_count": 17,
   "metadata": {},
   "outputs": [
    {
     "name": "stdout",
     "output_type": "stream",
     "text": [
      "Вероятность такого исхода 0.04363636363636363\n"
     ]
    }
   ],
   "source": [
    "v2 = p4*p2\n",
    "print(f'Вероятность такого исхода {p4*p2}')"
   ]
  },
  {
   "cell_type": "markdown",
   "metadata": {},
   "source": [
    "3. Из первого ящика выбрали 1 белый 1 черный, 1 белый 1 черный"
   ]
  },
  {
   "cell_type": "code",
   "execution_count": 18,
   "metadata": {},
   "outputs": [
    {
     "name": "stdout",
     "output_type": "stream",
     "text": [
      "Вероятность такого исхода 0.15272727272727274\n"
     ]
    }
   ],
   "source": [
    "v3 = p3*p5\n",
    "print(f'Вероятность такого исхода {p3*p5}')"
   ]
  },
  {
   "cell_type": "code",
   "execution_count": 19,
   "metadata": {},
   "outputs": [
    {
     "name": "stdout",
     "output_type": "stream",
     "text": [
      "Вероятность того, что ровно два мяча белые 0.20484848484848486\n"
     ]
    }
   ],
   "source": [
    "print(f'Вероятность того, что ровно два мяча белые {v1+v2+v3}')"
   ]
  },
  {
   "cell_type": "markdown",
   "metadata": {},
   "source": [
    "#### Вычислим вероятность того, что хотя бы один мяч белый"
   ]
  },
  {
   "cell_type": "markdown",
   "metadata": {},
   "source": [
    "Вычислим вероятность что все мячи черные"
   ]
  },
  {
   "cell_type": "code",
   "execution_count": 20,
   "metadata": {},
   "outputs": [
    {
     "name": "stdout",
     "output_type": "stream",
     "text": [
      "Вероятность что все мячи черные 0.0012121212121212121\n"
     ]
    }
   ],
   "source": [
    "print(f'Вероятность что все мячи черные {p4*p6}')"
   ]
  },
  {
   "cell_type": "code",
   "execution_count": 21,
   "metadata": {},
   "outputs": [
    {
     "name": "stdout",
     "output_type": "stream",
     "text": [
      "Вероятность того, что хотя бы один мяч белый 0.9987878787878788\n"
     ]
    }
   ],
   "source": [
    "print(f'Вероятность того, что хотя бы один мяч белый {1-p4*p6}')"
   ]
  }
 ],
 "metadata": {
  "kernelspec": {
   "display_name": "Python 3",
   "language": "python",
   "name": "python3"
  },
  "language_info": {
   "codemirror_mode": {
    "name": "ipython",
    "version": 3
   },
   "file_extension": ".py",
   "mimetype": "text/x-python",
   "name": "python",
   "nbconvert_exporter": "python",
   "pygments_lexer": "ipython3",
   "version": "3.7.3"
  }
 },
 "nbformat": 4,
 "nbformat_minor": 2
}
