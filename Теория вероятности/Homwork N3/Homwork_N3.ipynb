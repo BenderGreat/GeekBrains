{
 "cells": [
  {
   "cell_type": "markdown",
   "metadata": {},
   "source": [
    "#### Урок 3. Описательная статистика. Качественные и количественные характеристики популяции. Графическое представление данных"
   ]
  },
  {
   "cell_type": "markdown",
   "metadata": {},
   "source": [
    "##### Домашнее задание N3\n",
    "Слушатель: Перфильев Дмитрий"
   ]
  },
  {
   "cell_type": "markdown",
   "metadata": {},
   "source": [
    "#### 1. Даны значения зарплат из выборки выпускников: 100, 80, 75, 77, 89, 33, 45, 25, 65, 17, 30, 24, 57, 55, 70, 75, 65, 84, 90, 150. Посчитать (желательно без использования статистических методов наподобие std, var, mean) среднее арифметическое, среднее квадратичное отклонение, смещенную и несмещенную оценки дисперсий для данной выборки."
   ]
  },
  {
   "cell_type": "markdown",
   "metadata": {},
   "source": [
    "#### Среднее арифметическое находится по формуле:\n",
    "$$M(X) = \\frac{1}{n} \\sum\\limits_{i=1}^{n} x_i$$"
   ]
  },
  {
   "cell_type": "code",
   "execution_count": 1,
   "metadata": {},
   "outputs": [],
   "source": [
    "from math import *\n",
    "listSalary = [100, 80, 75, 77, 89, 33, 45, 25, 65, 17, 30, 24, 57, 55, 70, 75, 65, 84, 90, 150]\n",
    "sumSalary = sum(listSalary)\n",
    "countListSalary = len(listSalary)\n",
    "std = 1/countListSalary * sumSalary"
   ]
  },
  {
   "cell_type": "code",
   "execution_count": 2,
   "metadata": {},
   "outputs": [
    {
     "name": "stdout",
     "output_type": "stream",
     "text": [
      "Среднее арифметическое - 65.3\n"
     ]
    }
   ],
   "source": [
    "print(f'Среднее арифметическое - {std}')"
   ]
  },
  {
   "cell_type": "markdown",
   "metadata": {},
   "source": [
    "#### Cреднее квадратичное отклонение:\n",
    "$$\\sigma = \\sqrt{\\frac{\\sum\\limits_{i=1}^{n} (x_i - \\overline{x})^2}{n}}$$"
   ]
  },
  {
   "cell_type": "code",
   "execution_count": 3,
   "metadata": {},
   "outputs": [],
   "source": [
    "def squaredDifference (listX, stdX):\n",
    "    sumSquaredDifference = 0\n",
    "    for x in listX:\n",
    "        sumSquaredDifference = sumSquaredDifference + (x-stdX)**2\n",
    "    return sumSquaredDifference  "
   ]
  },
  {
   "cell_type": "code",
   "execution_count": 4,
   "metadata": {},
   "outputs": [
    {
     "name": "stdout",
     "output_type": "stream",
     "text": [
      "Cреднее квадратичное отклонение: +-30.823854398825596\n"
     ]
    }
   ],
   "source": [
    "sigma = sqrt(squaredDifference (listSalary, std) / countListSalary)\n",
    "print(f'Cреднее квадратичное отклонение: +-{sigma}')"
   ]
  },
  {
   "cell_type": "markdown",
   "metadata": {},
   "source": [
    "#### Несмещенная оценка дисперсий:\n",
    "$$\\sigma^2 = \\frac{\\sum\\limits_{i=1}^{n} (x_i - \\overline{x})^2}{n}$$"
   ]
  },
  {
   "cell_type": "code",
   "execution_count": 5,
   "metadata": {},
   "outputs": [
    {
     "name": "stdout",
     "output_type": "stream",
     "text": [
      "Несмещенная оценка дисперсий: 950.11\n"
     ]
    }
   ],
   "source": [
    "sigmaNotOffset = squaredDifference (listSalary, std) / countListSalary\n",
    "print(f'Несмещенная оценка дисперсий: {sigmaNotOffset}')"
   ]
  },
  {
   "cell_type": "markdown",
   "metadata": {},
   "source": [
    "#### Cмещенная оценка дисперсий:\n",
    "$$\\sigma^2_{несмещ.} = \\frac{\\sum\\limits_{i=1}^{n} (x_i - \\overline{x})^2}{n - 1}$$"
   ]
  },
  {
   "cell_type": "code",
   "execution_count": 6,
   "metadata": {},
   "outputs": [
    {
     "name": "stdout",
     "output_type": "stream",
     "text": [
      "Cмещенная оценка дисперсий: 1000.1157894736842\n"
     ]
    }
   ],
   "source": [
    "sigmaOffset = squaredDifference (listSalary, std) / (countListSalary -1)\n",
    "print(f'Cмещенная оценка дисперсий: {sigmaOffset}')"
   ]
  },
  {
   "cell_type": "markdown",
   "metadata": {},
   "source": [
    "#### 2. В первом ящике находится 8 мячей, из которых 5 - белые. Во втором ящике - 12 мячей, из которых 5 белых. Из первого ящика вытаскивают случайным образом два мяча, из второго - 4. Какова вероятность того, что 3 мяча белые?"
   ]
  },
  {
   "cell_type": "code",
   "execution_count": 7,
   "metadata": {},
   "outputs": [],
   "source": [
    "def combinations(n, k):\n",
    "    return int(factorial(n) / (factorial(k) * factorial(n - k)))"
   ]
  },
  {
   "cell_type": "markdown",
   "metadata": {},
   "source": [
    "Расчитаем вероятности для первого ящика"
   ]
  },
  {
   "cell_type": "code",
   "execution_count": 8,
   "metadata": {},
   "outputs": [
    {
     "name": "stdout",
     "output_type": "stream",
     "text": [
      "n все возможные исходы - 28\n"
     ]
    }
   ],
   "source": [
    "с = 8\n",
    "k = 2\n",
    "n = combinations(с, k)\n",
    "print(f'n все возможные исходы - {n}')"
   ]
  },
  {
   "cell_type": "markdown",
   "metadata": {},
   "source": [
    "Вероятность вытащить 2 белых мяча"
   ]
  },
  {
   "cell_type": "code",
   "execution_count": 9,
   "metadata": {},
   "outputs": [
    {
     "name": "stdout",
     "output_type": "stream",
     "text": [
      "m  число элементарных исходов благоприятствующих данному событию - 10\n",
      "Вероятность вытащить 2 белых мяча - 0.35714285714285715\n"
     ]
    }
   ],
   "source": [
    "с = 5\n",
    "k = 2\n",
    "m = combinations(с, k)\n",
    "print(f'm  число элементарных исходов благоприятствующих данному событию - {m}')\n",
    "p1 = m/n\n",
    "print(f'Вероятность вытащить 2 белых мяча - {p1}')"
   ]
  },
  {
   "cell_type": "markdown",
   "metadata": {},
   "source": [
    "Вероятность вытащить 1 белый мяч"
   ]
  },
  {
   "cell_type": "code",
   "execution_count": 10,
   "metadata": {},
   "outputs": [
    {
     "name": "stdout",
     "output_type": "stream",
     "text": [
      "m  число элементарных исходов благоприятствующих данному событию - 15\n",
      "Вероятность вытащить 1 белый мяч - 0.5357142857142857\n"
     ]
    }
   ],
   "source": [
    "с = 5\n",
    "k = 1\n",
    "mb = combinations(с, k)\n",
    "с = 3\n",
    "k = 1\n",
    "m = combinations(с, k)*mb\n",
    "print(f'm  число элементарных исходов благоприятствующих данному событию - {m}')\n",
    "p2 = m/n\n",
    "print(f'Вероятность вытащить 1 белый мяч - {p2}')"
   ]
  },
  {
   "cell_type": "markdown",
   "metadata": {},
   "source": [
    "Вероятность вытащить 2 черных мяча"
   ]
  },
  {
   "cell_type": "code",
   "execution_count": 11,
   "metadata": {},
   "outputs": [
    {
     "name": "stdout",
     "output_type": "stream",
     "text": [
      "m  число элементарных исходов благоприятствующих данному событию - 3\n",
      "Вероятность вытащить 2 черных мяча - 0.10714285714285714\n"
     ]
    }
   ],
   "source": [
    "с = 3\n",
    "k = 2\n",
    "m = combinations(с, k)\n",
    "print(f'm  число элементарных исходов благоприятствующих данному событию - {m}')\n",
    "p3 = m/n\n",
    "print(f'Вероятность вытащить 2 черных мяча - {p3}')"
   ]
  },
  {
   "cell_type": "markdown",
   "metadata": {},
   "source": [
    "Вычислим вероятности для второго ящика"
   ]
  },
  {
   "cell_type": "code",
   "execution_count": 12,
   "metadata": {},
   "outputs": [
    {
     "name": "stdout",
     "output_type": "stream",
     "text": [
      "n все возможные исходы - 495\n"
     ]
    }
   ],
   "source": [
    "с = 12\n",
    "k = 4\n",
    "n = combinations(с, k)\n",
    "print(f'n все возможные исходы - {n}')"
   ]
  },
  {
   "cell_type": "markdown",
   "metadata": {},
   "source": [
    "Вероятность вытащить 3 белых мяча"
   ]
  },
  {
   "cell_type": "code",
   "execution_count": 13,
   "metadata": {},
   "outputs": [
    {
     "name": "stdout",
     "output_type": "stream",
     "text": [
      "m  число элементарных исходов благоприятствующих данному событию - 70\n",
      "Вероятность вытащить 3 белых мяча - 0.1414141414141414\n"
     ]
    }
   ],
   "source": [
    "с = 7\n",
    "k = 1\n",
    "mb = combinations(с, k)\n",
    "с = 5\n",
    "k = 3\n",
    "m = combinations(с, k)*mb\n",
    "print(f'm  число элементарных исходов благоприятствующих данному событию - {m}')\n",
    "p4 = m/n\n",
    "print(f'Вероятность вытащить 3 белых мяча - {p4}')"
   ]
  },
  {
   "cell_type": "markdown",
   "metadata": {},
   "source": [
    "Вероятность вытащить 2 белых мяча"
   ]
  },
  {
   "cell_type": "code",
   "execution_count": 14,
   "metadata": {},
   "outputs": [
    {
     "name": "stdout",
     "output_type": "stream",
     "text": [
      "m  число элементарных исходов благоприятствующих данному событию - 210\n",
      "Вероятность вытащить 2 белых мяча - 0.42424242424242425\n"
     ]
    }
   ],
   "source": [
    "с = 7\n",
    "k = 2\n",
    "mb = combinations(с, k)\n",
    "с = 5\n",
    "k = 2\n",
    "m = combinations(с, k)*mb\n",
    "print(f'm  число элементарных исходов благоприятствующих данному событию - {m}')\n",
    "p5 = m/n\n",
    "print(f'Вероятность вытащить 2 белых мяча - {p5}')"
   ]
  },
  {
   "cell_type": "markdown",
   "metadata": {},
   "source": [
    "Вероятность вытащить 1 белый мяч"
   ]
  },
  {
   "cell_type": "code",
   "execution_count": 15,
   "metadata": {},
   "outputs": [
    {
     "name": "stdout",
     "output_type": "stream",
     "text": [
      "m  число элементарных исходов благоприятствующих данному событию - 175\n",
      "Вероятность вытащить 1 белый мяч - 0.35353535353535354\n"
     ]
    }
   ],
   "source": [
    "с = 7\n",
    "k = 3\n",
    "mb = combinations(с, k)\n",
    "с = 5\n",
    "k = 1\n",
    "m = combinations(с, k)*mb\n",
    "print(f'm  число элементарных исходов благоприятствующих данному событию - {m}')\n",
    "p6 = m/n\n",
    "print(f'Вероятность вытащить 1 белый мяч - {p6}')"
   ]
  },
  {
   "cell_type": "markdown",
   "metadata": {},
   "source": [
    "Т.к. события не зависимые находим произведение вероятностей"
   ]
  },
  {
   "cell_type": "markdown",
   "metadata": {},
   "source": [
    "Возможные варианты выбрать 3 белых мяча:"
   ]
  },
  {
   "cell_type": "markdown",
   "metadata": {},
   "source": [
    "1. 2 белых мяча из первого ящика + 1 из воторого"
   ]
  },
  {
   "cell_type": "code",
   "execution_count": 16,
   "metadata": {},
   "outputs": [
    {
     "name": "stdout",
     "output_type": "stream",
     "text": [
      "2 белых мяча из первого ящика + 1 из воторого - 0.12626262626262627\n"
     ]
    }
   ],
   "source": [
    "v1 = p1*p6\n",
    "print(f'2 белых мяча из первого ящика + 1 из воторого - {p1*p6}')"
   ]
  },
  {
   "cell_type": "markdown",
   "metadata": {},
   "source": [
    "2. 1 белый из первого и 2 из второго:"
   ]
  },
  {
   "cell_type": "code",
   "execution_count": 17,
   "metadata": {},
   "outputs": [
    {
     "name": "stdout",
     "output_type": "stream",
     "text": [
      "1 белый из первого и 2 из второго - 0.22727272727272727\n"
     ]
    }
   ],
   "source": [
    "v2 = p2*p5\n",
    "print(f'1 белый из первого и 2 из второго - {p2*p5}')"
   ]
  },
  {
   "cell_type": "markdown",
   "metadata": {},
   "source": [
    "3. 3 белых мяча из второго ящика"
   ]
  },
  {
   "cell_type": "code",
   "execution_count": 18,
   "metadata": {},
   "outputs": [
    {
     "name": "stdout",
     "output_type": "stream",
     "text": [
      "3 белых мяча из второго ящика - 0.01515151515151515\n"
     ]
    }
   ],
   "source": [
    "v3 = p3*p4\n",
    "print(f'3 белых мяча из второго ящика - {p3*p4}')"
   ]
  },
  {
   "cell_type": "code",
   "execution_count": 19,
   "metadata": {},
   "outputs": [
    {
     "name": "stdout",
     "output_type": "stream",
     "text": [
      "Вероятность что 3 мяча белые 0.3686868686868687\n"
     ]
    }
   ],
   "source": [
    "print(f'Вероятность что 3 мяча белые {v1+v2+v3}')"
   ]
  },
  {
   "cell_type": "markdown",
   "metadata": {},
   "source": [
    "#### 3. На соревновании по биатлону один из трех спортсменов стреляет и попадает в мишень. Вероятность попадания для первого спортсмена равна 0.9, для второго — 0.8, для третьего — 0.6. Найти вероятность того, что выстрел произведен: a). первым спортсменом б). вторым спортсменом в). третьим спортсменом."
   ]
  },
  {
   "cell_type": "markdown",
   "metadata": {},
   "source": [
    "#### Для опрделения вероятности будем исползовать формулу Байеса:\n",
    "$$P(B\\:|\\:A) = \\frac{P(B) \\cdot P(A\\:|\\:B)}{P(A)}$$"
   ]
  },
  {
   "cell_type": "code",
   "execution_count": 20,
   "metadata": {},
   "outputs": [
    {
     "name": "stdout",
     "output_type": "stream",
     "text": [
      "Вероятность того, что выстрел произведен первым спортсменом = 0.391304347826087\n",
      "Вероятность того, что выстрел произведен вторым спортсменом = 0.3478260869565218\n",
      "Вероятность того, что выстрел произведен третьим спортсменом = 0.2608695652173913\n"
     ]
    }
   ],
   "source": [
    "pAB1 = 0.9\n",
    "pAB2 = 0.8\n",
    "pAB3 = 0.6\n",
    "pB = 1/3\n",
    "pA = pB*pAB1 + pB*pAB2 + pB*pAB3\n",
    "\n",
    "pB1A = (pB*pAB1)/pA\n",
    "pB2A = (pB*pAB2)/pA\n",
    "pB3A = (pB*pAB3)/pA\n",
    "\n",
    "print(f'Вероятность того, что выстрел произведен первым спортсменом = {pB1A}')\n",
    "print(f'Вероятность того, что выстрел произведен вторым спортсменом = {pB2A}')\n",
    "print(f'Вероятность того, что выстрел произведен третьим спортсменом = {pB3A}')"
   ]
  },
  {
   "cell_type": "markdown",
   "metadata": {},
   "source": [
    "#### 4. В университет на факультеты A и B поступило равное количество студентов, а на факультет C студентов поступило столько же, сколько на A и B вместе. Вероятность того, что студент факультета A сдаст первую сессию, равна 0.8. Для студента факультета B эта вероятность равна 0.7, а для студента факультета C - 0.9. Студент сдал первую сессию. Какова вероятность, что он учится: a). на факультете A б). на факультете B в). на факультете C?"
   ]
  },
  {
   "cell_type": "code",
   "execution_count": 21,
   "metadata": {},
   "outputs": [
    {
     "name": "stdout",
     "output_type": "stream",
     "text": [
      "Вероятность того, что студент учился на факультете A = 0.24242424242424246\n",
      "Вероятность того, что студент учился на факультете B  = 0.21212121212121213\n",
      "Вероятность того, что студент учился на факультете С  = 0.5454545454545455\n"
     ]
    }
   ],
   "source": [
    "pAB1 = 0.8\n",
    "pAB2 = 0.7\n",
    "pAB3 = 0.9\n",
    "pB1 = 1/4\n",
    "pB2 = 1/4\n",
    "pB3 = 1/2\n",
    "pA = pB1*pAB1 + pB2*pAB2 + pB3*pAB3\n",
    "\n",
    "pB1A = (pB1*pAB1)/pA\n",
    "pB2A = (pB2*pAB2)/pA\n",
    "pB3A = (pB3*pAB3)/pA\n",
    "\n",
    "print(f'Вероятность того, что студент учился на факультете A = {pB1A}')\n",
    "print(f'Вероятность того, что студент учился на факультете B  = {pB2A}')\n",
    "print(f'Вероятность того, что студент учился на факультете С  = {pB3A}')"
   ]
  },
  {
   "cell_type": "markdown",
   "metadata": {},
   "source": [
    "#### 5. Устройство состоит из трех деталей. Для первой детали вероятность выйти из строя в первый месяц равна 0.1, для второй - 0.2, для третьей - 0.25. Какова вероятность того, что в первый месяц выйдут из строя: а). все детали б). только две детали в). хотя бы одна деталь г). от одной до двух деталей?"
   ]
  },
  {
   "cell_type": "code",
   "execution_count": 22,
   "metadata": {},
   "outputs": [
    {
     "name": "stdout",
     "output_type": "stream",
     "text": [
      "Вероятность того, что в первый месяц выйдут из строя все детали= 0.005000000000000001\n",
      "Вероятность того, что в первый месяц выйдут из строя только две детали= 0.095\n",
      "Вероятность того, что в первый месяц выйдут из строя хотя бы одна деталь   = 0.55\n",
      "Вероятность того, что в первый месяц выйдут из строя от одной до двух деталей   = 0.645\n"
     ]
    }
   ],
   "source": [
    "p1 = 0.1\n",
    "p2 = 0.2\n",
    "p3 = 0.25\n",
    "\n",
    "print(f'Вероятность того, что в первый месяц выйдут из строя все детали= {p1 * p2 * p3}')\n",
    "print(f'Вероятность того, что в первый месяц выйдут из строя только две детали= {(p1 * p2) + (p2 * p3) + (p3*p1)}')\n",
    "print(f'Вероятность того, что в первый месяц выйдут из строя хотя бы одна деталь   = {p1 + p2 + p3}')\n",
    "print(f'Вероятность того, что в первый месяц выйдут из строя от одной до двух деталей   = {(p1 + p2 + p3) + ((p1 * p2) + (p2 * p3) + (p3 * p1))}')"
   ]
  },
  {
   "cell_type": "code",
   "execution_count": null,
   "metadata": {},
   "outputs": [],
   "source": []
  }
 ],
 "metadata": {
  "kernelspec": {
   "display_name": "Python 3",
   "language": "python",
   "name": "python3"
  },
  "language_info": {
   "codemirror_mode": {
    "name": "ipython",
    "version": 3
   },
   "file_extension": ".py",
   "mimetype": "text/x-python",
   "name": "python",
   "nbconvert_exporter": "python",
   "pygments_lexer": "ipython3",
   "version": "3.7.3"
  }
 },
 "nbformat": 4,
 "nbformat_minor": 2
}
