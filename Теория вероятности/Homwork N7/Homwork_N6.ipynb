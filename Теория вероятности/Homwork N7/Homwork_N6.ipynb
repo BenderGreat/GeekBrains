{
 "cells": [
  {
   "cell_type": "markdown",
   "metadata": {},
   "source": [
    "#### Урок 7. Многомерный статистический анализ. Линейная регрессия"
   ]
  },
  {
   "cell_type": "markdown",
   "metadata": {},
   "source": [
    "##### Домашнее задание N7\n",
    "Слушатель: Перфильев Дмитрий"
   ]
  },
  {
   "cell_type": "code",
   "execution_count": 1,
   "metadata": {},
   "outputs": [],
   "source": [
    "from math import *\n",
    "import numpy as np\n",
    "import pandas as pd\n",
    "import seaborn as sns\n",
    "from scipy.stats import linregress"
   ]
  },
  {
   "cell_type": "markdown",
   "metadata": {},
   "source": [
    "#### 1) Даны значения величины заработной платы заемщиков банка (zp) и значения их поведенческого кредитного скоринга (ks): zp = [35, 45, 190, 200, 40, 70, 54, 150, 120, 110], ks = [401, 574, 874, 919, 459, 739, 653, 902, 746, 832]. Используя математические операции, посчитать коэффициенты линейной регрессии, приняв за X заработную плату (то есть, zp - признак), а за y - значения скорингового балла (то есть, ks - целевая переменная). Произвести расчет как с использованием intercept, так и без."
   ]
  },
  {
   "cell_type": "code",
   "execution_count": 2,
   "metadata": {},
   "outputs": [
    {
     "name": "stdout",
     "output_type": "stream",
     "text": [
      " Уравнение регрессии имеет вид f(x) = 444.1773573243596 + 2.620538882402765*x при расчете с использованием intercept\n"
     ]
    }
   ],
   "source": [
    "X = np.array([35, 45, 190, 200, 40, 70, 54, 150, 120, 110], dtype=np.float64)\n",
    "Y = np.array( [401, 574, 874, 919, 459, 739, 653, 902, 746, 832], dtype=np.float64)\n",
    "\n",
    "b = (np.mean(X * Y) - np.mean(X) * np.mean(Y)) / (np.mean(X**2) - np.mean(X) ** 2)\n",
    "\n",
    "a = np.mean(Y) - b * np.mean(X)\n",
    "\n",
    "print(f' Уравнение регрессии имеет вид f(x) = {a} + {b}*x при расчете с использованием intercept')"
   ]
  },
  {
   "cell_type": "code",
   "execution_count": 3,
   "metadata": {},
   "outputs": [
    {
     "name": "stdout",
     "output_type": "stream",
     "text": [
      " Уравнение регрессии имеет вид f(x) = 444.1773573243595 + 2.6205388824027693*x при расчете матричным способом\n",
      " Уравнение регрессии имеет вид f(x) = 5.889820420132688*x при расчете матричным способом без intercept\n"
     ]
    }
   ],
   "source": [
    "X2 = X.reshape((len(X),1))\n",
    "Y2 = Y.reshape((len(Y),1))\n",
    "\n",
    "X3 = np.hstack([np.ones((len(X),1)), X2])\n",
    "\n",
    "b = np.dot(np.linalg.inv(np.dot(X3.T,X3)),X3.T @Y2)\n",
    "\n",
    "print(f' Уравнение регрессии имеет вид f(x) = {b[0][0]} + {b[1][0]}*x при расчете матричным способом')\n",
    "\n",
    "b = np.dot(np.linalg.inv(np.dot(X2.T,X2)),X2.T @Y2)\n",
    "\n",
    "print(f' Уравнение регрессии имеет вид f(x) = {b[0][0]}*x при расчете матричным способом без intercept')"
   ]
  },
  {
   "cell_type": "code",
   "execution_count": 4,
   "metadata": {},
   "outputs": [
    {
     "data": {
      "text/plain": [
       "LinregressResult(slope=2.620538882402766, intercept=444.1773573243595, rvalue=0.8874900920739165, pvalue=0.0006107546587257465, stderr=0.4810827956851598)"
      ]
     },
     "execution_count": 4,
     "metadata": {},
     "output_type": "execute_result"
    }
   ],
   "source": [
    "linregress(X,Y)"
   ]
  },
  {
   "cell_type": "markdown",
   "metadata": {},
   "source": [
    "#### 2)Посчитать коэффициент линейной регрессии при заработной плате (zp), используя градиентный спуск (без intercept)."
   ]
  },
  {
   "cell_type": "code",
   "execution_count": 5,
   "metadata": {},
   "outputs": [
    {
     "name": "stdout",
     "output_type": "stream",
     "text": [
      "B1 = 1.1347302 MSE = 368017.9491755833\n",
      "B1 = 5.872024146706 MSE = 56521.22156616817\n",
      "B1 = 5.8897538162759355 MSE = 56516.858476833426\n",
      "B1 = 5.889820170862877 MSE = 56516.85841572027\n",
      "B1 = 5.889820419199778 MSE = 56516.8584157194\n",
      "B1 = 5.8898204201291975 MSE = 56516.8584157194\n",
      "B1 = 5.889820420132673 MSE = 56516.85841571943\n",
      "B1 = 5.889820420132673 MSE = 56516.85841571943\n"
     ]
    }
   ],
   "source": [
    "alpha = 1e-6\n",
    "n = len(X)\n",
    "B1 = 1\n",
    "\n",
    "def mse_(B1,Y=Y, X=X, n=n):\n",
    "    return np.sum((B1*X-Y)**2)/n\n",
    "\n",
    "\n",
    "for i in range(1500):\n",
    "    B1 -= alpha*(2/n)*np.sum((B1*X-Y)*X)\n",
    "    if i%200 == 0:\n",
    "        print(f'B1 = {B1} MSE = {mse_(B1)}')\n",
    "\n"
   ]
  },
  {
   "cell_type": "markdown",
   "metadata": {},
   "source": [
    "#### 3)В каких случаях для вычисления доверительных интервалов и проверки статистических гипотез используется таблица значений функции Лапласа, а в каких - таблица критических точек распределения Стьюдента?"
   ]
  },
  {
   "cell_type": "markdown",
   "metadata": {},
   "source": [
    "#### В том случае если нам не известно среднеквадратическое отклонение генеральной совокупности мы испоьзуем таблицу критических точек распределения Стьюдента \n",
    "#### В том случае если нам изветна среднеквадратическое отклонение генеральной совокупности мы испоьзуем таблицукритических точек распределения Стьюдента "
   ]
  },
  {
   "cell_type": "markdown",
   "metadata": {},
   "source": [
    "#### 4) Произвести вычисления как в пункте 2, но с вычислением intercept. Учесть, что изменение коэффициентов должно производиться на каждом шаге одновременно (то есть изменение одного коэффициента не должно влиять на изменение другого во время одной итерации)."
   ]
  },
  {
   "cell_type": "code",
   "execution_count": 6,
   "metadata": {},
   "outputs": [
    {
     "name": "stdout",
     "output_type": "stream",
     "text": [
      "B1 = 400.0419664 B0 = 5.587969844985599 MSE = 103169.7592023661\n",
      "B1 = 442.9109904045038 B0 = 2.6298595718089457 MSE = 6470.820999832877\n",
      "B1 = 444.141037747965 B0 = 2.6208062010492252 MSE = 6470.414535788994\n",
      "B1 = 444.1763156739437 B0 = 2.6205465491380893 MSE = 6470.414201451895\n",
      "B1 = 444.177327449685 B0 = 2.6205391022857696 MSE = 6470.414201176887\n",
      "B1 = 444.1773564675501 B0 = 2.620538888709039 MSE = 6470.414201176659\n",
      "B1 = 444.17735729978386 B0 = 2.620538882583647 MSE = 6470.414201176658\n",
      "B1 = 444.17735732355925 B0 = 2.620538882408656 MSE = 6470.414201176658\n",
      "B1 = 444.17735732355925 B0 = 2.620538882408656 MSE = 6470.414201176658\n",
      "B1 = 444.17735732355925 B0 = 2.620538882408656 MSE = 6470.414201176658\n"
     ]
    }
   ],
   "source": [
    "alpha = 7e-5\n",
    "\n",
    "B0 = 0.1\n",
    "B1 = 400\n",
    "\n",
    "def mse_(B0,B1,Y=Y, X=X, n=n):\n",
    "    return np.sum((B0*X + B1 -Y)**2)/n\n",
    "\n",
    "for i in range(1000000):\n",
    "    B1 -= alpha*(2/n)*np.sum((B0*X + B1) - Y) \n",
    "    B0 -= alpha*(2/n)*np.sum(((B0*X + B1) - Y)*X)\n",
    "    if i%100000 == 0:\n",
    "        print(f'B1 = {B1} B0 = {B0} MSE = {mse_(B0,B1)}')"
   ]
  },
  {
   "cell_type": "code",
   "execution_count": null,
   "metadata": {},
   "outputs": [],
   "source": []
  }
 ],
 "metadata": {
  "kernelspec": {
   "display_name": "Python 3",
   "language": "python",
   "name": "python3"
  },
  "language_info": {
   "codemirror_mode": {
    "name": "ipython",
    "version": 3
   },
   "file_extension": ".py",
   "mimetype": "text/x-python",
   "name": "python",
   "nbconvert_exporter": "python",
   "pygments_lexer": "ipython3",
   "version": "3.7.1"
  }
 },
 "nbformat": 4,
 "nbformat_minor": 2
}
